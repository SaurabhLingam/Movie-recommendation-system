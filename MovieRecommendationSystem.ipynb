{
  "nbformat": 4,
  "nbformat_minor": 0,
  "metadata": {
    "colab": {
      "provenance": []
    },
    "kernelspec": {
      "name": "python3",
      "display_name": "Python 3"
    },
    "language_info": {
      "name": "python"
    }
  },
  "cells": [
    {
      "cell_type": "code",
      "execution_count": 5,
      "metadata": {
        "id": "Y_tp-OMN-Yzd"
      },
      "outputs": [],
      "source": [
        "import pandas as pd\n",
        "import numpy as np\n",
        "import ast\n",
        "from sklearn.feature_extraction.text import CountVectorizer\n",
        "import nltk\n",
        "\n",
        "from nltk.stem.porter import PorterStemmer\n",
        "ps = PorterStemmer()\n",
        "\n",
        "from sklearn.metrics.pairwise import cosine_similarity\n",
        "\n",
        "credits_df = pd.read_csv(\"/content/credits.csv\")\n",
        "movies_df = pd.read_csv(\"/content/movies.csv\")\n",
        "\n",
        "pd.set_option('display.max_columns', None)\n",
        "pd.set_option('display.max_rows', None)\n",
        "\n",
        "movies_df = movies_df.merge(credits_df, on = 'title')\n",
        "movies_df.head()\n",
        "\n",
        "movies_df = movies_df[['movie_id', 'title', 'overview', 'genres', 'keywords', 'cast', 'crew']]\n",
        "\n",
        "movies_df.dropna(inplace = True)\n",
        "\n",
        "def convert(obj):\n",
        "    l = []\n",
        "    for i in ast.literal_eval(obj):\n",
        "      l.append(i['name'])\n",
        "    return l\n",
        "\n",
        "movies_df['genres'] = movies_df['genres'].apply(convert)\n",
        "movies_df['keywords'] = movies_df['keywords'].apply(convert)\n",
        "\n",
        "def convert3(obj):\n",
        "    l = []\n",
        "    counter = 0\n",
        "    for i in ast.literal_eval(obj):\n",
        "      if counter != 3:\n",
        "        l.append(i['name'])\n",
        "        counter += 1\n",
        "      else:\n",
        "        break\n",
        "    return l\n",
        "\n",
        "\n",
        "movies_df['cast'] = movies_df['cast'].apply(convert3)\n",
        "\n",
        "def fetch_director(obj):\n",
        "    l = []\n",
        "    for i in ast.literal_eval(obj):\n",
        "      if i['job'] == 'Director':\n",
        "        l.append(i['name'])\n",
        "        break\n",
        "    return l\n",
        "\n",
        "movies_df['crew'] = movies_df['crew'].apply(fetch_director)\n",
        "\n",
        "movies_df['overview'] = movies_df['overview'].apply(lambda x:x.split())\n",
        "\n",
        "movies_df['genres'] = movies_df['genres'].apply(lambda x:[i.replace(\" \", \"\") for i in x])\n",
        "movies_df['keywords'] = movies_df['keywords'].apply(lambda x:[i.replace(\" \", \"\") for i in x])\n",
        "movies_df['cast'] = movies_df['cast'].apply(lambda x:[i.replace(\" \", \"\") for i in x])\n",
        "movies_df['crew'] = movies_df['crew'].apply(lambda x:[i.replace(\" \", \"\") for i in x])\n",
        "\n",
        "movies_df['tags'] = movies_df['overview'] + movies_df['genres'] + movies_df['keywords'] + movies_df['cast'] + movies_df['crew']\n",
        "\n",
        "new_df = movies_df[['movie_id', 'title', 'tags']].copy()\n",
        "\n",
        "new_df.loc[:, 'tags'] = new_df['tags'].apply(lambda x:\" \".join(x))\n",
        "\n",
        "new_df.loc[:, 'tags'] = new_df['tags'].apply(lambda x:x.lower())\n",
        "\n",
        "cv = CountVectorizer(max_features = 5000, stop_words = 'english')\n",
        "\n",
        "cv.fit_transform(new_df['tags']).toarray().shape\n",
        "vectors = cv.fit_transform(new_df['tags']).toarray()\n",
        "\n",
        "\n",
        "len(cv.get_feature_names_out())\n",
        "\n",
        "def stem(text):\n",
        "  y = []\n",
        "  for i in text.split():\n",
        "    y.append(ps.stem(i))\n",
        "  return \" \".join(y)\n",
        "\n",
        "new_df.loc[:, 'tags'] = new_df['tags'].apply(stem)\n",
        "\n",
        "cosine_similarity(vectors).shape\n",
        "\n",
        "similarity = cosine_similarity(vectors)\n",
        "\n",
        "sorted(list(enumerate(similarity[0])), reverse = True, key = lambda x:x[1])[1:6]\n",
        "\n",
        "def recommend(movie):\n",
        "  movie_index = new_df[new_df['title'] == movie].index[0]\n",
        "  distances = similarity[movie_index]\n",
        "  movies_list = sorted(list(enumerate(distances)), reverse = True, key = lambda x:x[1])[1:6]\n",
        "  for i in movies_list:\n",
        "    print(new_df.iloc[i[0]].title)\n"
      ]
    },
    {
      "cell_type": "code",
      "source": [
        "recommend(\"Rango\")"
      ],
      "metadata": {
        "colab": {
          "base_uri": "https://localhost:8080/"
        },
        "id": "vXcM0rPuDCmR",
        "outputId": "94eda13a-1ebb-4c17-8189-7f1f10e6c90b"
      },
      "execution_count": 13,
      "outputs": [
        {
          "output_type": "stream",
          "name": "stdout",
          "text": [
            "Blazing Saddles\n",
            "Alvin and the Chipmunks: The Road Chip\n",
            "Over the Hedge\n",
            "Return to Oz\n",
            "A Million Ways to Die in the West\n"
          ]
        }
      ]
    }
  ]
}